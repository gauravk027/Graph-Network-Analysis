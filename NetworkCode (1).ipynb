{
  "cells": [
    {
      "cell_type": "code",
      "source": [
        "pip install node2vec"
      ],
      "metadata": {
        "id": "ovwBgYZ4TRS1",
        "colab": {
          "base_uri": "https://localhost:8080/",
          "height": 528
        },
        "outputId": "c3113441-e3ad-4e91-8adf-4176b262a60d"
      },
      "execution_count": null,
      "outputs": [
        {
          "output_type": "stream",
          "name": "stdout",
          "text": [
            "Collecting node2vec\n",
            "  Downloading node2vec-0.4.6-py3-none-any.whl (7.0 kB)\n",
            "Requirement already satisfied: gensim<5.0.0,>=4.1.2 in /usr/local/lib/python3.10/dist-packages (from node2vec) (4.3.2)\n",
            "Requirement already satisfied: joblib<2.0.0,>=1.1.0 in /usr/local/lib/python3.10/dist-packages (from node2vec) (1.3.2)\n",
            "Collecting networkx<3.0,>=2.5 (from node2vec)\n",
            "  Downloading networkx-2.8.8-py3-none-any.whl (2.0 MB)\n",
            "\u001b[2K     \u001b[90m━━━━━━━━━━━━━━━━━━━━━━━━━━━━━━━━━━━━━━━━\u001b[0m \u001b[32m2.0/2.0 MB\u001b[0m \u001b[31m8.0 MB/s\u001b[0m eta \u001b[36m0:00:00\u001b[0m\n",
            "\u001b[?25hRequirement already satisfied: numpy<2.0.0,>=1.19.5 in /usr/local/lib/python3.10/dist-packages (from node2vec) (1.23.5)\n",
            "Requirement already satisfied: tqdm<5.0.0,>=4.55.1 in /usr/local/lib/python3.10/dist-packages (from node2vec) (4.66.1)\n",
            "Requirement already satisfied: scipy>=1.7.0 in /usr/local/lib/python3.10/dist-packages (from gensim<5.0.0,>=4.1.2->node2vec) (1.11.4)\n",
            "Requirement already satisfied: smart-open>=1.8.1 in /usr/local/lib/python3.10/dist-packages (from gensim<5.0.0,>=4.1.2->node2vec) (6.4.0)\n",
            "Installing collected packages: networkx, node2vec\n",
            "  Attempting uninstall: networkx\n",
            "    Found existing installation: networkx 3.2.1\n",
            "    Uninstalling networkx-3.2.1:\n",
            "      Successfully uninstalled networkx-3.2.1\n",
            "\u001b[31mERROR: pip's dependency resolver does not currently take into account all the packages that are installed. This behaviour is the source of the following dependency conflicts.\n",
            "lida 0.0.10 requires fastapi, which is not installed.\n",
            "lida 0.0.10 requires kaleido, which is not installed.\n",
            "lida 0.0.10 requires python-multipart, which is not installed.\n",
            "lida 0.0.10 requires uvicorn, which is not installed.\u001b[0m\u001b[31m\n",
            "\u001b[0mSuccessfully installed networkx-2.8.8 node2vec-0.4.6\n"
          ]
        },
        {
          "output_type": "display_data",
          "data": {
            "application/vnd.colab-display-data+json": {
              "pip_warning": {
                "packages": [
                  "networkx"
                ]
              }
            }
          },
          "metadata": {}
        }
      ]
    },
    {
      "cell_type": "code",
      "source": [
        "pip install torch_geometric\n"
      ],
      "metadata": {
        "colab": {
          "base_uri": "https://localhost:8080/"
        },
        "id": "JLRGSbUUTjvO",
        "outputId": "0349e312-c1fe-4b4d-97ef-47c7328ef03d"
      },
      "execution_count": null,
      "outputs": [
        {
          "output_type": "stream",
          "name": "stdout",
          "text": [
            "Collecting torch_geometric\n",
            "  Downloading torch_geometric-2.4.0-py3-none-any.whl (1.0 MB)\n",
            "\u001b[2K     \u001b[90m━━━━━━━━━━━━━━━━━━━━━━━━━━━━━━━━━━━━━━━━\u001b[0m \u001b[32m1.0/1.0 MB\u001b[0m \u001b[31m7.1 MB/s\u001b[0m eta \u001b[36m0:00:00\u001b[0m\n",
            "\u001b[?25hRequirement already satisfied: tqdm in /usr/local/lib/python3.10/dist-packages (from torch_geometric) (4.66.1)\n",
            "Requirement already satisfied: numpy in /usr/local/lib/python3.10/dist-packages (from torch_geometric) (1.23.5)\n",
            "Requirement already satisfied: scipy in /usr/local/lib/python3.10/dist-packages (from torch_geometric) (1.11.4)\n",
            "Requirement already satisfied: jinja2 in /usr/local/lib/python3.10/dist-packages (from torch_geometric) (3.1.2)\n",
            "Requirement already satisfied: requests in /usr/local/lib/python3.10/dist-packages (from torch_geometric) (2.31.0)\n",
            "Requirement already satisfied: pyparsing in /usr/local/lib/python3.10/dist-packages (from torch_geometric) (3.1.1)\n",
            "Requirement already satisfied: scikit-learn in /usr/local/lib/python3.10/dist-packages (from torch_geometric) (1.2.2)\n",
            "Requirement already satisfied: psutil>=5.8.0 in /usr/local/lib/python3.10/dist-packages (from torch_geometric) (5.9.5)\n",
            "Requirement already satisfied: MarkupSafe>=2.0 in /usr/local/lib/python3.10/dist-packages (from jinja2->torch_geometric) (2.1.3)\n",
            "Requirement already satisfied: charset-normalizer<4,>=2 in /usr/local/lib/python3.10/dist-packages (from requests->torch_geometric) (3.3.2)\n",
            "Requirement already satisfied: idna<4,>=2.5 in /usr/local/lib/python3.10/dist-packages (from requests->torch_geometric) (3.6)\n",
            "Requirement already satisfied: urllib3<3,>=1.21.1 in /usr/local/lib/python3.10/dist-packages (from requests->torch_geometric) (2.0.7)\n",
            "Requirement already satisfied: certifi>=2017.4.17 in /usr/local/lib/python3.10/dist-packages (from requests->torch_geometric) (2023.11.17)\n",
            "Requirement already satisfied: joblib>=1.1.1 in /usr/local/lib/python3.10/dist-packages (from scikit-learn->torch_geometric) (1.3.2)\n",
            "Requirement already satisfied: threadpoolctl>=2.0.0 in /usr/local/lib/python3.10/dist-packages (from scikit-learn->torch_geometric) (3.2.0)\n",
            "Installing collected packages: torch_geometric\n",
            "Successfully installed torch_geometric-2.4.0\n"
          ]
        }
      ]
    },
    {
      "cell_type": "code",
      "execution_count": null,
      "metadata": {
        "id": "jTVMVyT_RdIf"
      },
      "outputs": [],
      "source": [
        "import numpy as np\n",
        "import networkx as nx\n",
        "import matplotlib.pyplot as plt\n",
        "from sklearn.manifold import SpectralEmbedding\n",
        "from sklearn.cluster import KMeans\n",
        "from sklearn.discriminant_analysis import LinearDiscriminantAnalysis, QuadraticDiscriminantAnalysis\n",
        "from sklearn.svm import SVC\n",
        "from sklearn.metrics import adjusted_rand_score\n",
        "from sklearn.model_selection import train_test_split\n",
        "import node2vec\n",
        "import torch\n",
        "import torch_geometric as tg"
      ]
    },
    {
      "cell_type": "markdown",
      "metadata": {
        "id": "wFeW7ZKURdIi"
      },
      "source": [
        "##Data"
      ]
    },
    {
      "cell_type": "code",
      "execution_count": null,
      "metadata": {
        "id": "eqoPGZSYRdIm"
      },
      "outputs": [],
      "source": [
        "BZR_EDGES = None\n",
        "BZR_LABELS = None\n",
        "\n",
        "with open('BZR-MD.edges') as edges_file:\n",
        "    BZR_EDGES = np.loadtxt(edges_file, dtype=int, delimiter=',')\n",
        "\n",
        "with open('BZR-MD.node_labels') as nodes_file:\n",
        "    BZR_LABELS = np.loadtxt(nodes_file, dtype=int, delimiter=',')\n",
        "    BZR_LABELS = BZR_LABELS[:, 1]"
      ]
    },
    {
      "cell_type": "markdown",
      "metadata": {
        "id": "Z3sfOc5vRdIm"
      },
      "source": [
        "## Data Preprocessing"
      ]
    },
    {
      "cell_type": "code",
      "execution_count": null,
      "metadata": {
        "id": "rdrGstHNRdIn"
      },
      "outputs": [],
      "source": [
        "X = BZR_EDGES\n",
        "Y = BZR_LABELS"
      ]
    },
    {
      "cell_type": "code",
      "execution_count": null,
      "metadata": {
        "colab": {
          "base_uri": "https://localhost:8080/"
        },
        "id": "EWI22dRERdIn",
        "outputId": "60b5a81c-b33f-4458-8dad-218711c6fa77"
      },
      "outputs": [
        {
          "output_type": "stream",
          "name": "stdout",
          "text": [
            "Graph has node: 6519 and edges: 137734\n"
          ]
        }
      ],
      "source": [
        "Graph = nx.DiGraph()\n",
        "Graph.add_edges_from(X)\n",
        "print(f\"Graph has node: {Graph.number_of_nodes()} and edges: {Graph.number_of_edges()}\")"
      ]
    },
    {
      "cell_type": "code",
      "execution_count": null,
      "metadata": {
        "id": "ozfD7QpGRdIn"
      },
      "outputs": [],
      "source": [
        "Nodes_Number = np.max(X)\n",
        "Cluster_class = np.max(Y)\n",
        "EPOCHS = 1000\n",
        "name_processor = torch.device('cuda' if torch.cuda.is_available() else 'cpu')"
      ]
    },
    {
      "cell_type": "code",
      "execution_count": null,
      "metadata": {
        "id": "4_3jm1kFRdIo"
      },
      "outputs": [],
      "source": [
        "data_train = torch.zeros(Nodes_Number, dtype=torch.bool)\n",
        "data_test = torch.zeros(Nodes_Number, dtype=torch.bool)\n",
        "data_train[:int(Nodes_Number*0.8)] = True\n",
        "data_test[int(Nodes_Number*0.8):] = True\n",
        "\n",
        "data = tg.data.Data(\n",
        "    data_train=data_train,\n",
        "    data_test=data_test,\n",
        "    x=torch.eye(Nodes_Number),\n",
        "    edge_index=torch.tensor(X-1, dtype=torch.long).t().contiguous(),\n",
        "    y=torch.nn.functional.one_hot(torch.tensor(Y-1, dtype=torch.long), Cluster_class)).to(name_processor)\n",
        "    # y=torch.tensor(Y-1, dtype=torch.long)).to(name_processor)"
      ]
    },
    {
      "cell_type": "code",
      "execution_count": null,
      "metadata": {
        "id": "dwgEKGFSRdIo"
      },
      "outputs": [],
      "source": [
        "matrix_adj = np.zeros((Nodes_Number, Nodes_Number))\n",
        "matrix_adj[X[:, 0]-1, X[:, 1]-1] = 1\n",
        "matrix_adj[X[:, 1]-1, X[:, 0]-1] = 1"
      ]
    },
    {
      "cell_type": "code",
      "execution_count": null,
      "metadata": {
        "id": "GT4sqljWRdIq"
      },
      "outputs": [],
      "source": [
        "X_TRAIN, X_TEST, Y_TRAIN, Y_TEST = train_test_split(matrix_adj, Y, test_size=0.2, random_state=42)\n",
        "X_TRAIN = torch.tensor(X_TRAIN, dtype=torch.float).to(name_processor)\n",
        "X_TEST = torch.tensor(X_TEST, dtype=torch.float).to(name_processor)\n",
        "Y_TRAIN = torch.nn.functional.one_hot(torch.tensor(Y_TRAIN-1, dtype=torch.long)).to(name_processor)\n",
        "Y_TEST = torch.nn.functional.one_hot(torch.tensor(Y_TEST-1, dtype=torch.long)).to(name_processor)"
      ]
    },
    {
      "cell_type": "markdown",
      "metadata": {
        "id": "KsliMMq6RdIy"
      },
      "source": [
        "## Spectral Embedding"
      ]
    },
    {
      "cell_type": "code",
      "execution_count": null,
      "metadata": {
        "id": "cadRru__RdIy"
      },
      "outputs": [],
      "source": [
        "embedding = SpectralEmbedding(n_components=Cluster_class)\n",
        "spectral_embedding = embedding.fit_transform(matrix_adj, Y)"
      ]
    },
    {
      "cell_type": "code",
      "execution_count": null,
      "metadata": {
        "id": "Cl8OM3nMRdIy"
      },
      "outputs": [],
      "source": [
        "X_TRAIN, X_TEST, Y_TRAIN, Y_TEST = train_test_split(spectral_embedding, Y, test_size=0.2, random_state=42)"
      ]
    },
    {
      "cell_type": "code",
      "execution_count": null,
      "metadata": {
        "colab": {
          "base_uri": "https://localhost:8080/"
        },
        "id": "53EJZpoJRdI0",
        "outputId": "c12cf8cd-2ec1-4015-b2a4-7c6eef6b385a"
      },
      "outputs": [
        {
          "output_type": "stream",
          "name": "stdout",
          "text": [
            "Training Accuracy SVM:\n",
            "Accuracy: 0.7647171620325983\n",
            "Adjusted Rand Index: 0.0\n",
            "\n",
            "Testing Accuracy SVM:\n",
            "Accuracy: 0.7745398773006135\n",
            "Adjusted Rand Index: 0.0\n"
          ]
        }
      ],
      "source": [
        "svm_spectral = SVC()\n",
        "svm_spectral.fit(X_TRAIN, Y_TRAIN)\n",
        "Y_PRED_SVM_SPECTRAL = svm_spectral.predict(X_TRAIN)\n",
        "\n",
        "print(\"Training Accuracy SVM:\")\n",
        "print(f\"Accuracy: {np.sum(Y_TRAIN == Y_PRED_SVM_SPECTRAL) / len(Y_TRAIN)}\")\n",
        "print(f\"Adjusted Rand Index: {adjusted_rand_score(Y_TRAIN, Y_PRED_SVM_SPECTRAL)}\")\n",
        "\n",
        "print()\n",
        "print(\"Testing Accuracy SVM:\")\n",
        "print(f\"Accuracy: {np.sum(Y_TEST == svm_spectral.predict(X_TEST)) / len(Y_TEST)}\")\n",
        "print(f\"Adjusted Rand Index: {adjusted_rand_score(Y_TEST, svm_spectral.predict(X_TEST))}\")"
      ]
    },
    {
      "cell_type": "code",
      "execution_count": null,
      "metadata": {
        "colab": {
          "base_uri": "https://localhost:8080/"
        },
        "id": "t6sFU7LbRdIy",
        "outputId": "04a50c6b-5dc8-4766-8e2f-5ff2d2a7fb7f"
      },
      "outputs": [
        {
          "output_type": "stream",
          "name": "stdout",
          "text": [
            "Training Accuracy LDA:\n",
            "Accuracy: 0.7587727708533077\n",
            "Adjusted Rand Index: 0.009226684826504787\n",
            "\n",
            "Testing Accuracy LDA:\n",
            "Accuracy: 0.7684049079754601\n",
            "Adjusted Rand Index: -0.006125811443094695\n"
          ]
        }
      ],
      "source": [
        "lda_spectral = LinearDiscriminantAnalysis()\n",
        "lda_spectral.fit(X_TRAIN, Y_TRAIN)\n",
        "Y_PRED_LDA_SPECTRAL = lda_spectral.predict(X_TRAIN)\n",
        "\n",
        "print(\"Training Accuracy LDA:\")\n",
        "print(f\"Accuracy: {np.sum(Y_TRAIN == Y_PRED_LDA_SPECTRAL) / len(Y_TRAIN)}\")\n",
        "print(f\"Adjusted Rand Index: {adjusted_rand_score(Y_TRAIN, Y_PRED_LDA_SPECTRAL)}\")\n",
        "\n",
        "print()\n",
        "print(\"Testing Accuracy LDA:\")\n",
        "print(f\"Accuracy: {np.sum(Y_TEST == lda_spectral.predict(X_TEST)) / len(Y_TEST)}\")\n",
        "print(f\"Adjusted Rand Index: {adjusted_rand_score(Y_TEST, lda_spectral.predict(X_TEST))}\")"
      ]
    },
    {
      "cell_type": "markdown",
      "metadata": {
        "id": "vTzU0csCRdIs"
      },
      "source": [
        "## Graph Convolutional Network"
      ]
    },
    {
      "cell_type": "code",
      "execution_count": null,
      "metadata": {
        "id": "i-8ej0hiRdIs"
      },
      "outputs": [],
      "source": [
        "class GCN(torch.nn.Module):\n",
        "    def __init__(self, num_node_features, num_classes):\n",
        "        super(GCN, self).__init__()\n",
        "        self.conv1 = tg.nn.GCNConv(num_node_features, 8)\n",
        "        self.fc1 = torch.nn.Linear(8, num_classes)\n",
        "\n",
        "    def forward(self, data):\n",
        "        x, edge_index = data.x, data.edge_index\n",
        "        x = self.conv1(x, edge_index)\n",
        "        x = torch.nn.functional.relu(x)\n",
        "        x = torch.nn.functional.dropout(x, training=self.training)\n",
        "        x = self.fc1(x)\n",
        "        x = torch.nn.functional.softmax(x, dim=1)\n",
        "        return x"
      ]
    },
    {
      "cell_type": "code",
      "execution_count": null,
      "metadata": {
        "id": "5kGMncLSRdIt"
      },
      "outputs": [],
      "source": [
        "gcn_model = GCN(num_node_features=Nodes_Number, num_classes=Cluster_class).to(name_processor)\n",
        "gcn_opti = torch.optim.Adam(gcn_model.parameters(), lr=0.0001) #, weight_decay=5e-4)\n",
        "gcn_loss = torch.nn.MSELoss()"
      ]
    },
    {
      "cell_type": "code",
      "execution_count": null,
      "metadata": {
        "colab": {
          "base_uri": "https://localhost:8080/"
        },
        "id": "0gnkx8EIRdIt",
        "outputId": "6aef3dbe-15ea-4534-9dc5-32a201413e1d"
      },
      "outputs": [
        {
          "output_type": "stream",
          "name": "stdout",
          "text": [
            "Epoch: 100\t Loss: 0.1060\t Val Acc: 0.0023\n",
            "Epoch: 200\t Loss: 0.1054\t Val Acc: 0.0023\n",
            "Epoch: 300\t Loss: 0.1047\t Val Acc: 0.0023\n",
            "Epoch: 400\t Loss: 0.1040\t Val Acc: 0.8014\n",
            "Epoch: 500\t Loss: 0.1031\t Val Acc: 0.8014\n",
            "Epoch: 600\t Loss: 0.1020\t Val Acc: 0.8014\n",
            "Epoch: 700\t Loss: 0.1009\t Val Acc: 0.8014\n",
            "Epoch: 800\t Loss: 0.0995\t Val Acc: 0.8014\n",
            "Epoch: 900\t Loss: 0.0981\t Val Acc: 0.8014\n",
            "Epoch: 1000\t Loss: 0.0964\t Val Acc: 0.8014\n"
          ]
        }
      ],
      "source": [
        "loss_list_gcn = []\n",
        "accuracy_list_gcn = []\n",
        "\n",
        "for epoch in range(EPOCHS):\n",
        "    gcn_model.train()\n",
        "    gcn_opti.zero_grad()\n",
        "    out = gcn_model(data)\n",
        "    loss = gcn_loss(out[data.data_train], data.y[data.data_train].float())\n",
        "    loss.backward()\n",
        "    gcn_opti.step()\n",
        "\n",
        "    # validate the model\n",
        "    gcn_model.eval()\n",
        "    _, pred = gcn_model(data).max(dim=1)\n",
        "    _, true_labels = torch.max(data.y.float(), dim=1)\n",
        "    correct = float(pred[data.data_test].eq(true_labels[data.data_test]).sum().item())\n",
        "    acc = correct / len(data.y[data.data_test])\n",
        "    loss_list_gcn.append(loss.item())\n",
        "    accuracy_list_gcn.append(acc)\n",
        "    if (epoch+1) % 100 == 0:\n",
        "        print(f'Epoch: {epoch+1:03d}\\t Loss: {loss:.4f}\\t Val Acc: {acc:.4f}')"
      ]
    },
    {
      "cell_type": "code",
      "execution_count": null,
      "metadata": {
        "id": "7ADC00BGRdIt",
        "colab": {
          "base_uri": "https://localhost:8080/"
        },
        "outputId": "6bb7a3d7-5bad-470a-88e4-bfcd01f30525"
      },
      "outputs": [
        {
          "output_type": "stream",
          "name": "stdout",
          "text": [
            "Test Acc: 0.8014\n",
            "Adjusted Rand Index: 0.0\n"
          ]
        }
      ],
      "source": [
        "# test the model\n",
        "gcn_model.eval()\n",
        "_, pred = gcn_model(data).max(dim=1)\n",
        "_, true_labels = torch.max(data.y.float(), dim=1)\n",
        "correct = float(pred[data.data_test].eq(true_labels[data.data_test]).sum().item())\n",
        "acc = correct / len(data.y[data.data_test])\n",
        "print(f'Test Acc: {acc:.4f}')\n",
        "print(f\"Adjusted Rand Index: {adjusted_rand_score(pred.cpu().numpy(), true_labels.cpu().numpy())}\")"
      ]
    },
    {
      "cell_type": "code",
      "execution_count": null,
      "metadata": {
        "colab": {
          "base_uri": "https://localhost:8080/",
          "height": 430
        },
        "id": "DWaPhUW4RdIt",
        "outputId": "0b8104d3-d7e7-4714-a951-fd3d3c126ea6"
      },
      "outputs": [
        {
          "output_type": "display_data",
          "data": {
            "text/plain": [
              "<Figure size 640x480 with 1 Axes>"
            ],
            "image/png": "[encoded data removed]"
          },
          "metadata": {}
        }
      ],
      "source": [
        "# plot loss and accuracy\n",
        "plt.plot(loss_list_gcn)\n",
        "plt.plot(accuracy_list_gcn)\n",
        "plt.legend(['loss', 'accuracy'])\n",
        "plt.show()"
      ]
    },
    {
      "cell_type": "markdown",
      "metadata": {
        "id": "IBALTMyHRdI0"
      },
      "source": [
        "## Node2Vec"
      ]
    },
    {
      "cell_type": "code",
      "execution_count": null,
      "metadata": {
        "colab": {
          "base_uri": "https://localhost:8080/",
          "height": 49,
          "referenced_widgets": [
            "397bd17d4fcb40399d1b2b9887bad26e",
            "edeae0d32ac441eba3b612dc3f8d706a",
            "c7d580b5a6f5432a8aab2edc9243e888",
            "892b16321e544c44b158a508d6826bb9",
            "636416319bec46b387e0f15c919352c3",
            "012fc41d7d6948ccb1c4511057f4b022",
            "9229c5271c09498285a68873043a826c",
            "3847e11bf468447fbcc1f7d79893e5fd",
            "28f08a33b12345f392dbd9995bfd542e",
            "c175789673904309a8e002575948c167",
            "2b550e2ecb3243e5bb337b124d8d32c2"
          ]
        },
        "id": "gkAJyUrYRdI1",
        "outputId": "a0f90b6b-53b3-47d7-bb23-2429ad7aae81"
      },
      "outputs": [
        {
          "output_type": "display_data",
          "data": {
            "text/plain": [
              "Computing transition probabilities:   0%|          | 0/6519 [00:00<?, ?it/s]"
            ],
            "application/vnd.jupyter.widget-view+json": {
              "version_major": 2,
              "version_minor": 0,
              "model_id": "397bd17d4fcb40399d1b2b9887bad26e"
            }
          },
          "metadata": {}
        }
      ],
      "source": [
        "node2vec_model = node2vec.Node2Vec(G, dimensions=Cluster_class, num_walks=40, workers=4)\n",
        "\n",
        "model = node2vec_model.fit(window=10, min_count=1, batch_words=4)\n",
        "\n",
        "embeddings = model.wv\n",
        "\n",
        "node_ids = list(G.nodes())  # List of nodes in the graph\n",
        "embedding_matrix = np.array([model.wv[str(node_id)] for node_id in node_ids])"
      ]
    },
    {
      "cell_type": "code",
      "execution_count": null,
      "metadata": {
        "id": "gNUlvGW7RdI1"
      },
      "outputs": [],
      "source": [
        "X_TRAIN, X_TEST, Y_TRAIN, Y_TEST = train_test_split(embedding_matrix, Y, test_size=0.2, random_state=42)"
      ]
    },
    {
      "cell_type": "code",
      "execution_count": null,
      "metadata": {
        "id": "JChb8R3lRdI2",
        "colab": {
          "base_uri": "https://localhost:8080/"
        },
        "outputId": "b1911dcf-ac07-4869-a2f7-bff7d07f5bc5"
      },
      "outputs": [
        {
          "output_type": "stream",
          "name": "stdout",
          "text": [
            "Training Accuracy KMeans:\n",
            "Accuracy: 0.12483221476510067\n",
            "Adjusted Rand Index: -0.00033422682091110723\n",
            "\n",
            "Testing Accuracy KMeans:\n",
            "Accuracy: 0.13420245398773006\n",
            "Adjusted Rand Index: 0.0007581997626836208\n"
          ]
        },
        {
          "output_type": "stream",
          "name": "stderr",
          "text": [
            "/usr/local/lib/python3.10/dist-packages/sklearn/cluster/_kmeans.py:870: FutureWarning: The default value of `n_init` will change from 10 to 'auto' in 1.4. Set the value of `n_init` explicitly to suppress the warning\n",
            "  warnings.warn(\n"
          ]
        }
      ],
      "source": [
        "kmeans_node = KMeans(n_clusters=Cluster_class)\n",
        "kmeans_node.fit(X_TRAIN)\n",
        "Y_PRED_KMEANS_NODE = kmeans_node.predict(X_TRAIN)\n",
        "\n",
        "print(\"Training Accuracy KMeans:\")\n",
        "print(f\"Accuracy: {np.sum(Y_TRAIN-1 == Y_PRED_KMEANS_NODE) / len(Y_TRAIN)}\")\n",
        "print(f\"Adjusted Rand Index: {adjusted_rand_score(Y_TRAIN-1, Y_PRED_KMEANS_NODE)}\")\n",
        "\n",
        "print()\n",
        "print(\"Testing Accuracy KMeans:\")\n",
        "print(f\"Accuracy: {np.sum(Y_TEST-1 == kmeans_node.predict(X_TEST)) / len(Y_TEST)}\")\n",
        "print(f\"Adjusted Rand Index: {adjusted_rand_score(Y_TEST-1, kmeans_node.predict(X_TEST))}\")"
      ]
    },
    {
      "cell_type": "code",
      "execution_count": null,
      "metadata": {
        "id": "JAnCvLYcRdI1",
        "colab": {
          "base_uri": "https://localhost:8080/"
        },
        "outputId": "87bb7e48-8ee0-47b4-e80e-49341099bf20"
      },
      "outputs": [
        {
          "output_type": "stream",
          "name": "stdout",
          "text": [
            "Training Accuracy LDA:\n",
            "Accuracy: 0.6117502684460807\n",
            "Adjusted Rand Index: 0.0\n",
            "\n",
            "Testing Accuracy LDA:\n",
            "Accuracy: 0.7745398773006135\n",
            "Adjusted Rand Index: 0.0\n"
          ]
        }
      ],
      "source": [
        "lda_node = LinearDiscriminantAnalysis(n_components=2)\n",
        "lda_node.fit(X_TRAIN, Y_TRAIN)\n",
        "Y_PRED_LDA_NODE = lda_node.predict(X_TRAIN)\n",
        "\n",
        "print(\"Training Accuracy LDA:\")\n",
        "print(f\"Accuracy: {np.sum(Y_TRAIN == Y_PRED_LDA_NODE) / len(Y)}\")\n",
        "print(f\"Adjusted Rand Index: {adjusted_rand_score(Y_TRAIN, Y_PRED_LDA_NODE)}\")\\\n",
        "\n",
        "print()\n",
        "print(\"Testing Accuracy LDA:\")\n",
        "print(f\"Accuracy: {np.sum(Y_TEST == lda_node.predict(X_TEST)) / len(Y_TEST)}\")\n",
        "print(f\"Adjusted Rand Index: {adjusted_rand_score(Y_TEST, lda_node.predict(X_TEST))}\")"
      ]
    }
  ],
  "metadata": {
    "kernelspec": {
      "display_name": "Python 3",
      "name": "python3"
    },
    "language_info": {
      "codemirror_mode": {
        "name": "ipython",
        "version": 3
      },
      "file_extension": ".py",
      "mimetype": "text/x-python",
      "name": "python",
      "nbconvert_exporter": "python",
      "pygments_lexer": "ipython3",
      "version": "3.10.9"
    },
    "colab": {
      "provenance": [],
      "gpuType": "T4"
    },
    "accelerator": "GPU",
    "widgets": {
      "application/vnd.jupyter.widget-state+json": {
        "397bd17d4fcb40399d1b2b9887bad26e": {
          "model_module": "@jupyter-widgets/controls",
          "model_name": "HBoxModel",
          "model_module_version": "1.5.0",
          "state": {
            "_dom_classes": [],
            "_model_module": "@jupyter-widgets/controls",
            "_model_module_version": "1.5.0",
            "_model_name": "HBoxModel",
            "_view_count": null,
            "_view_module": "@jupyter-widgets/controls",
            "_view_module_version": "1.5.0",
            "_view_name": "HBoxView",
            "box_style": "",
            "children": [
              "IPY_MODEL_edeae0d32ac441eba3b612dc3f8d706a",
              "IPY_MODEL_c7d580b5a6f5432a8aab2edc9243e888",
              "IPY_MODEL_892b16321e544c44b158a508d6826bb9"
            ],
            "layout": "IPY_MODEL_636416319bec46b387e0f15c919352c3"
          }
        },
        "edeae0d32ac441eba3b612dc3f8d706a": {
          "model_module": "@jupyter-widgets/controls",
          "model_name": "HTMLModel",
          "model_module_version": "1.5.0",
          "state": {
            "_dom_classes": [],
            "_model_module": "@jupyter-widgets/controls",
            "_model_module_version": "1.5.0",
            "_model_name": "HTMLModel",
            "_view_count": null,
            "_view_module": "@jupyter-widgets/controls",
            "_view_module_version": "1.5.0",
            "_view_name": "HTMLView",
            "description": "",
            "description_tooltip": null,
            "layout": "IPY_MODEL_012fc41d7d6948ccb1c4511057f4b022",
            "placeholder": "​",
            "style": "IPY_MODEL_9229c5271c09498285a68873043a826c",
            "value": "Computing transition probabilities: 100%"
          }
        },
        "c7d580b5a6f5432a8aab2edc9243e888": {
          "model_module": "@jupyter-widgets/controls",
          "model_name": "FloatProgressModel",
          "model_module_version": "1.5.0",
          "state": {
            "_dom_classes": [],
            "_model_module": "@jupyter-widgets/controls",
            "_model_module_version": "1.5.0",
            "_model_name": "FloatProgressModel",
            "_view_count": null,
            "_view_module": "@jupyter-widgets/controls",
            "_view_module_version": "1.5.0",
            "_view_name": "ProgressView",
            "bar_style": "success",
            "description": "",
            "description_tooltip": null,
            "layout": "IPY_MODEL_3847e11bf468447fbcc1f7d79893e5fd",
            "max": 6519,
            "min": 0,
            "orientation": "horizontal",
            "style": "IPY_MODEL_28f08a33b12345f392dbd9995bfd542e",
            "value": 6519
          }
        },
        "892b16321e544c44b158a508d6826bb9": {
          "model_module": "@jupyter-widgets/controls",
          "model_name": "HTMLModel",
          "model_module_version": "1.5.0",
          "state": {
            "_dom_classes": [],
            "_model_module": "@jupyter-widgets/controls",
            "_model_module_version": "1.5.0",
            "_model_name": "HTMLModel",
            "_view_count": null,
            "_view_module": "@jupyter-widgets/controls",
            "_view_module_version": "1.5.0",
            "_view_name": "HTMLView",
            "description": "",
            "description_tooltip": null,
            "layout": "IPY_MODEL_c175789673904309a8e002575948c167",
            "placeholder": "​",
            "style": "IPY_MODEL_2b550e2ecb3243e5bb337b124d8d32c2",
            "value": " 6519/6519 [00:19&lt;00:00, 280.11it/s]"
          }
        },
        "636416319bec46b387e0f15c919352c3": {
          "model_module": "@jupyter-widgets/base",
          "model_name": "LayoutModel",
          "model_module_version": "1.2.0",
          "state": {
            "_model_module": "@jupyter-widgets/base",
            "_model_module_version": "1.2.0",
            "_model_name": "LayoutModel",
            "_view_count": null,
            "_view_module": "@jupyter-widgets/base",
            "_view_module_version": "1.2.0",
            "_view_name": "LayoutView",
            "align_content": null,
            "align_items": null,
            "align_self": null,
            "border": null,
            "bottom": null,
            "display": null,
            "flex": null,
            "flex_flow": null,
            "grid_area": null,
            "grid_auto_columns": null,
            "grid_auto_flow": null,
            "grid_auto_rows": null,
            "grid_column": null,
            "grid_gap": null,
            "grid_row": null,
            "grid_template_areas": null,
            "grid_template_columns": null,
            "grid_template_rows": null,
            "height": null,
            "justify_content": null,
            "justify_items": null,
            "left": null,
            "margin": null,
            "max_height": null,
            "max_width": null,
            "min_height": null,
            "min_width": null,
            "object_fit": null,
            "object_position": null,
            "order": null,
            "overflow": null,
            "overflow_x": null,
            "overflow_y": null,
            "padding": null,
            "right": null,
            "top": null,
            "visibility": null,
            "width": null
          }
        },
        "012fc41d7d6948ccb1c4511057f4b022": {
          "model_module": "@jupyter-widgets/base",
          "model_name": "LayoutModel",
          "model_module_version": "1.2.0",
          "state": {
            "_model_module": "@jupyter-widgets/base",
            "_model_module_version": "1.2.0",
            "_model_name": "LayoutModel",
            "_view_count": null,
            "_view_module": "@jupyter-widgets/base",
            "_view_module_version": "1.2.0",
            "_view_name": "LayoutView",
            "align_content": null,
            "align_items": null,
            "align_self": null,
            "border": null,
            "bottom": null,
            "display": null,
            "flex": null,
            "flex_flow": null,
            "grid_area": null,
            "grid_auto_columns": null,
            "grid_auto_flow": null,
            "grid_auto_rows": null,
            "grid_column": null,
            "grid_gap": null,
            "grid_row": null,
            "grid_template_areas": null,
            "grid_template_columns": null,
            "grid_template_rows": null,
            "height": null,
            "justify_content": null,
            "justify_items": null,
            "left": null,
            "margin": null,
            "max_height": null,
            "max_width": null,
            "min_height": null,
            "min_width": null,
            "object_fit": null,
            "object_position": null,
            "order": null,
            "overflow": null,
            "overflow_x": null,
            "overflow_y": null,
            "padding": null,
            "right": null,
            "top": null,
            "visibility": null,
            "width": null
          }
        },
        "9229c5271c09498285a68873043a826c": {
          "model_module": "@jupyter-widgets/controls",
          "model_name": "DescriptionStyleModel",
          "model_module_version": "1.5.0",
          "state": {
            "_model_module": "@jupyter-widgets/controls",
            "_model_module_version": "1.5.0",
            "_model_name": "DescriptionStyleModel",
            "_view_count": null,
            "_view_module": "@jupyter-widgets/base",
            "_view_module_version": "1.2.0",
            "_view_name": "StyleView",
            "description_width": ""
          }
        },
        "3847e11bf468447fbcc1f7d79893e5fd": {
          "model_module": "@jupyter-widgets/base",
          "model_name": "LayoutModel",
          "model_module_version": "1.2.0",
          "state": {
            "_model_module": "@jupyter-widgets/base",
            "_model_module_version": "1.2.0",
            "_model_name": "LayoutModel",
            "_view_count": null,
            "_view_module": "@jupyter-widgets/base",
            "_view_module_version": "1.2.0",
            "_view_name": "LayoutView",
            "align_content": null,
            "align_items": null,
            "align_self": null,
            "border": null,
            "bottom": null,
            "display": null,
            "flex": null,
            "flex_flow": null,
            "grid_area": null,
            "grid_auto_columns": null,
            "grid_auto_flow": null,
            "grid_auto_rows": null,
            "grid_column": null,
            "grid_gap": null,
            "grid_row": null,
            "grid_template_areas": null,
            "grid_template_columns": null,
            "grid_template_rows": null,
            "height": null,
            "justify_content": null,
            "justify_items": null,
            "left": null,
            "margin": null,
            "max_height": null,
            "max_width": null,
            "min_height": null,
            "min_width": null,
            "object_fit": null,
            "object_position": null,
            "order": null,
            "overflow": null,
            "overflow_x": null,
            "overflow_y": null,
            "padding": null,
            "right": null,
            "top": null,
            "visibility": null,
            "width": null
          }
        },
        "28f08a33b12345f392dbd9995bfd542e": {
          "model_module": "@jupyter-widgets/controls",
          "model_name": "ProgressStyleModel",
          "model_module_version": "1.5.0",
          "state": {
            "_model_module": "@jupyter-widgets/controls",
            "_model_module_version": "1.5.0",
            "_model_name": "ProgressStyleModel",
            "_view_count": null,
            "_view_module": "@jupyter-widgets/base",
            "_view_module_version": "1.2.0",
            "_view_name": "StyleView",
            "bar_color": null,
            "description_width": ""
          }
        },
        "c175789673904309a8e002575948c167": {
          "model_module": "@jupyter-widgets/base",
          "model_name": "LayoutModel",
          "model_module_version": "1.2.0",
          "state": {
            "_model_module": "@jupyter-widgets/base",
            "_model_module_version": "1.2.0",
            "_model_name": "LayoutModel",
            "_view_count": null,
            "_view_module": "@jupyter-widgets/base",
            "_view_module_version": "1.2.0",
            "_view_name": "LayoutView",
            "align_content": null,
            "align_items": null,
            "align_self": null,
            "border": null,
            "bottom": null,
            "display": null,
            "flex": null,
            "flex_flow": null,
            "grid_area": null,
            "grid_auto_columns": null,
            "grid_auto_flow": null,
            "grid_auto_rows": null,
            "grid_column": null,
            "grid_gap": null,
            "grid_row": null,
            "grid_template_areas": null,
            "grid_template_columns": null,
            "grid_template_rows": null,
            "height": null,
            "justify_content": null,
            "justify_items": null,
            "left": null,
            "margin": null,
            "max_height": null,
            "max_width": null,
            "min_height": null,
            "min_width": null,
            "object_fit": null,
            "object_position": null,
            "order": null,
            "overflow": null,
            "overflow_x": null,
            "overflow_y": null,
            "padding": null,
            "right": null,
            "top": null,
            "visibility": null,
            "width": null
          }
        },
        "2b550e2ecb3243e5bb337b124d8d32c2": {
          "model_module": "@jupyter-widgets/controls",
          "model_name": "DescriptionStyleModel",
          "model_module_version": "1.5.0",
          "state": {
            "_model_module": "@jupyter-widgets/controls",
            "_model_module_version": "1.5.0",
            "_model_name": "DescriptionStyleModel",
            "_view_count": null,
            "_view_module": "@jupyter-widgets/base",
            "_view_module_version": "1.2.0",
            "_view_name": "StyleView",
            "description_width": ""
          }
        }
      }
    }
  },
  "nbformat": 4,
  "nbformat_minor": 0
}